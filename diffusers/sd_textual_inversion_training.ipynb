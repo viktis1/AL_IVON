{
  "cells": [
    {
      "cell_type": "markdown",
      "metadata": {
        "id": "tAZq3vFDcFiT"
      },
      "source": [
        "# Textual-inversion fine-tuning for Stable Diffusion using d🧨ffusers\n",
        "\n",
        "This notebook shows how to \"teach\" Stable Diffusion a new concept via textual-inversion using 🤗 Hugging Face [🧨 Diffusers library](https://github.com/huggingface/diffusers).\n",
        "\n",
        "![Textual Inversion example](https://textual-inversion.github.io/static/images/editing/colorful_teapot.JPG)\n",
        "_By using just 3-5 images you can teach new concepts to Stable Diffusion and personalize the model on your own images_\n",
        "\n",
        "For a general introduction to the Stable Diffusion model please refer to this [colab](https://colab.research.google.com/github/huggingface/notebooks/blob/main/diffusers/stable_diffusion.ipynb).\n",
        "\n"
      ]
    },
    {
      "cell_type": "markdown",
      "metadata": {
        "id": "KbzZ9xe6dWwf"
      },
      "source": [
        "## Initial setup"
      ]
    },
    {
      "cell_type": "code",
      "execution_count": 1,
      "metadata": {
        "id": "30lu8LWXmg5j",
        "cellView": "form",
        "outputId": "fc62c863-0ea7-4d3b-f3cd-45663c1cb692",
        "colab": {
          "base_uri": "https://localhost:8080/"
        }
      },
      "outputs": [
        {
          "output_type": "stream",
          "name": "stdout",
          "text": [
            "  Installing build dependencies ... \u001b[?25l\u001b[?25hdone\n",
            "  Getting requirements to build wheel ... \u001b[?25l\u001b[?25hdone\n",
            "  Preparing metadata (pyproject.toml) ... \u001b[?25l\u001b[?25hdone\n",
            "  Building wheel for diffusers (pyproject.toml) ... \u001b[?25l\u001b[?25hdone\n",
            "\u001b[2K   \u001b[90m━━━━━━━━━━━━━━━━━━━━━━━━━━━━━━━━━━━━━━━━\u001b[0m \u001b[32m44.8/44.8 kB\u001b[0m \u001b[31m2.6 MB/s\u001b[0m eta \u001b[36m0:00:00\u001b[0m\n",
            "\u001b[2K   \u001b[90m━━━━━━━━━━━━━━━━━━━━━━━━━━━━━━━━━━━━━━━━\u001b[0m \u001b[32m363.4/363.4 MB\u001b[0m \u001b[31m4.3 MB/s\u001b[0m eta \u001b[36m0:00:00\u001b[0m\n",
            "\u001b[2K   \u001b[90m━━━━━━━━━━━━━━━━━━━━━━━━━━━━━━━━━━━━━━━━\u001b[0m \u001b[32m13.8/13.8 MB\u001b[0m \u001b[31m110.0 MB/s\u001b[0m eta \u001b[36m0:00:00\u001b[0m\n",
            "\u001b[2K   \u001b[90m━━━━━━━━━━━━━━━━━━━━━━━━━━━━━━━━━━━━━━━━\u001b[0m \u001b[32m24.6/24.6 MB\u001b[0m \u001b[31m85.8 MB/s\u001b[0m eta \u001b[36m0:00:00\u001b[0m\n",
            "\u001b[2K   \u001b[90m━━━━━━━━━━━━━━━━━━━━━━━━━━━━━━━━━━━━━━━━\u001b[0m \u001b[32m883.7/883.7 kB\u001b[0m \u001b[31m56.7 MB/s\u001b[0m eta \u001b[36m0:00:00\u001b[0m\n",
            "\u001b[2K   \u001b[90m━━━━━━━━━━━━━━━━━━━━━━━━━━━━━━━━━━━━━━━━\u001b[0m \u001b[32m664.8/664.8 MB\u001b[0m \u001b[31m2.2 MB/s\u001b[0m eta \u001b[36m0:00:00\u001b[0m\n",
            "\u001b[2K   \u001b[90m━━━━━━━━━━━━━━━━━━━━━━━━━━━━━━━━━━━━━━━━\u001b[0m \u001b[32m211.5/211.5 MB\u001b[0m \u001b[31m5.7 MB/s\u001b[0m eta \u001b[36m0:00:00\u001b[0m\n",
            "\u001b[2K   \u001b[90m━━━━━━━━━━━━━━━━━━━━━━━━━━━━━━━━━━━━━━━━\u001b[0m \u001b[32m56.3/56.3 MB\u001b[0m \u001b[31m15.0 MB/s\u001b[0m eta \u001b[36m0:00:00\u001b[0m\n",
            "\u001b[2K   \u001b[90m━━━━━━━━━━━━━━━━━━━━━━━━━━━━━━━━━━━━━━━━\u001b[0m \u001b[32m127.9/127.9 MB\u001b[0m \u001b[31m7.2 MB/s\u001b[0m eta \u001b[36m0:00:00\u001b[0m\n",
            "\u001b[2K   \u001b[90m━━━━━━━━━━━━━━━━━━━━━━━━━━━━━━━━━━━━━━━━\u001b[0m \u001b[32m207.5/207.5 MB\u001b[0m \u001b[31m6.0 MB/s\u001b[0m eta \u001b[36m0:00:00\u001b[0m\n",
            "\u001b[2K   \u001b[90m━━━━━━━━━━━━━━━━━━━━━━━━━━━━━━━━━━━━━━━━\u001b[0m \u001b[32m21.1/21.1 MB\u001b[0m \u001b[31m90.4 MB/s\u001b[0m eta \u001b[36m0:00:00\u001b[0m\n",
            "\u001b[?25h"
          ]
        }
      ],
      "source": [
        "#@title Install the required libs\n",
        "!pip install -U -qq git+https://github.com/huggingface/diffusers.git\n",
        "!pip install -qq accelerate transformers ftfy"
      ]
    },
    {
      "cell_type": "code",
      "source": [
        "#@title [Optional] Install xformers for faster and memory efficient training\n",
        "#@markdown Acknowledgement: The xformers wheel are taken from [TheLastBen/fast-stable-diffusion](https://github.com/TheLastBen/fast-stable-diffusion). Thanks a lot for building these wheels!\n",
        "%%time\n",
        "\n",
        "!pip install -U --pre triton\n",
        "\n",
        "from subprocess import getoutput\n",
        "from IPython.display import HTML\n",
        "from IPython.display import clear_output\n",
        "import time\n",
        "\n",
        "s = getoutput('nvidia-smi')\n",
        "if 'T4' in s:\n",
        "  gpu = 'T4'\n",
        "elif 'P100' in s:\n",
        "  gpu = 'P100'\n",
        "elif 'V100' in s:\n",
        "  gpu = 'V100'\n",
        "elif 'A100' in s:\n",
        "  gpu = 'A100'\n",
        "\n",
        "while True:\n",
        "    try:\n",
        "        gpu=='T4'or gpu=='P100'or gpu=='V100'or gpu=='A100'\n",
        "        break\n",
        "    except:\n",
        "        pass\n",
        "    print('[1;31mit seems that your GPU is not supported at the moment')\n",
        "    time.sleep(5)\n",
        "\n",
        "if (gpu=='T4'):\n",
        "  %pip install -q https://github.com/TheLastBen/fast-stable-diffusion/raw/main/precompiled/T4/xformers-0.0.13.dev0-py3-none-any.whl\n",
        "\n",
        "elif (gpu=='P100'):\n",
        "  %pip install -q https://github.com/TheLastBen/fast-stable-diffusion/raw/main/precompiled/P100/xformers-0.0.13.dev0-py3-none-any.whl\n",
        "\n",
        "elif (gpu=='V100'):\n",
        "  %pip install -q https://github.com/TheLastBen/fast-stable-diffusion/raw/main/precompiled/V100/xformers-0.0.13.dev0-py3-none-any.whl\n",
        "\n",
        "elif (gpu=='A100'):\n",
        "  %pip install -q https://github.com/TheLastBen/fast-stable-diffusion/raw/main/precompiled/A100/xformers-0.0.13.dev0-py3-none-any.whl"
      ],
      "metadata": {
        "cellView": "form",
        "id": "Ji4BmlYPDqD4",
        "outputId": "ce661a64-cc99-4f1d-fe4b-b86eab68c2c5",
        "colab": {
          "base_uri": "https://localhost:8080/"
        }
      },
      "execution_count": 2,
      "outputs": [
        {
          "output_type": "stream",
          "name": "stdout",
          "text": [
            "Requirement already satisfied: triton in /usr/local/lib/python3.11/dist-packages (3.2.0)\n",
            "\u001b[31m  ERROR: HTTP error 404 while getting https://github.com/TheLastBen/fast-stable-diffusion/raw/main/precompiled/T4/xformers-0.0.13.dev0-py3-none-any.whl\u001b[0m\u001b[31m\n",
            "\u001b[0m\u001b[31mERROR: Could not install requirement xformers==0.0.13.dev0 from https://github.com/TheLastBen/fast-stable-diffusion/raw/main/precompiled/T4/xformers-0.0.13.dev0-py3-none-any.whl because of HTTP error 404 Client Error: Not Found for url: https://github.com/TheLastBen/fast-stable-diffusion/raw/main/precompiled/T4/xformers-0.0.13.dev0-py3-none-any.whl for URL https://github.com/TheLastBen/fast-stable-diffusion/raw/main/precompiled/T4/xformers-0.0.13.dev0-py3-none-any.whl\u001b[0m\u001b[31m\n",
            "\u001b[0mCPU times: user 39.7 ms, sys: 4.39 ms, total: 44.1 ms\n",
            "Wall time: 6.56 s\n"
          ]
        }
      ]
    },
    {
      "cell_type": "code",
      "execution_count": 3,
      "metadata": {
        "cellView": "form",
        "id": "24zwrNSBm4A3",
        "outputId": "21961889-f01d-4379-a5ca-79be2dc4f2e1",
        "colab": {
          "base_uri": "https://localhost:8080/",
          "height": 0,
          "referenced_widgets": [
            "126944f795424dc8a57aac86418f73df",
            "783f6b1d97494dbe95ed4149e00e748e",
            "ee677b619297448bbabf496394cd5fd2",
            "4f1c988c12c14e9aa84b0bc17bb634a3",
            "10b8c29864ca46a2b9c6b3cab72c2f59",
            "008c20b22d0f4e66b421599c7b1707d4",
            "46140e157d9d46169fe22f4cd4fb3543",
            "c377eebd262a4cbc828244d7b68111c9",
            "39eb50b4593b47098532a2c0c234afb4",
            "edb6fdfe8fe04301931f007e97b78979",
            "e0925feb531e4d13a83e8706bd5d5ac4",
            "154088f25160472a86395afb33621f7a",
            "a24e177593664741993a4a1b369f84c5",
            "ec4559767b3243548f3d4377c26df8b5",
            "a208e72e590c4bf8b2829d7e45172248",
            "77c7e58fb9364d1ea854c8e27e122939",
            "81c63b56a1bb46ba8d77dc0e847091e2"
          ]
        }
      },
      "outputs": [
        {
          "output_type": "display_data",
          "data": {
            "text/plain": [
              "VBox(children=(HTML(value='<center> <img\\nsrc=https://huggingface.co/front/assets/huggingface_logo-noborder.sv…"
            ],
            "application/vnd.jupyter.widget-view+json": {
              "version_major": 2,
              "version_minor": 0,
              "model_id": "126944f795424dc8a57aac86418f73df"
            }
          },
          "metadata": {}
        }
      ],
      "source": [
        "#@title [Optional] Login to the Hugging Face Hub\n",
        "#@markdown Add a token with the \"Write Access\" role to be able to add your trained concept to the [Library of Concepts](https://huggingface.co/sd-concepts-library)\n",
        "from huggingface_hub import notebook_login\n",
        "\n",
        "notebook_login()"
      ]
    },
    {
      "cell_type": "code",
      "execution_count": 4,
      "metadata": {
        "cellView": "form",
        "id": "1_h0kO-VnQog"
      },
      "outputs": [],
      "source": [
        "#@title Import required libraries\n",
        "import argparse\n",
        "import itertools\n",
        "import math\n",
        "import os\n",
        "import random\n",
        "\n",
        "import numpy as np\n",
        "import torch\n",
        "import torch.nn.functional as F\n",
        "import torch.utils.checkpoint\n",
        "from torch.utils.data import Dataset\n",
        "\n",
        "import PIL\n",
        "from accelerate import Accelerator\n",
        "from accelerate.logging import get_logger\n",
        "from accelerate.utils import set_seed\n",
        "from diffusers import AutoencoderKL, DDPMScheduler, PNDMScheduler, StableDiffusionPipeline, UNet2DConditionModel\n",
        "from diffusers.optimization import get_scheduler\n",
        "from diffusers.pipelines.stable_diffusion import StableDiffusionSafetyChecker\n",
        "from PIL import Image\n",
        "from torchvision import transforms\n",
        "from tqdm.auto import tqdm\n",
        "from transformers import CLIPFeatureExtractor, CLIPTextModel, CLIPTokenizer\n",
        "\n",
        "def image_grid(imgs, rows, cols):\n",
        "    assert len(imgs) == rows*cols\n",
        "\n",
        "    w, h = imgs[0].size\n",
        "    grid = Image.new('RGB', size=(cols*w, rows*h))\n",
        "    grid_w, grid_h = grid.size\n",
        "\n",
        "    for i, img in enumerate(imgs):\n",
        "        grid.paste(img, box=(i%cols*w, i//cols*h))\n",
        "    return grid"
      ]
    },
    {
      "cell_type": "markdown",
      "metadata": {
        "id": "Yl3r7A_3ASxm"
      },
      "source": [
        "## Settings for teaching your new concept"
      ]
    },
    {
      "cell_type": "code",
      "execution_count": 5,
      "metadata": {
        "id": "If5Jswe526QP"
      },
      "outputs": [],
      "source": [
        "#@markdown `pretrained_model_name_or_path` which Stable Diffusion checkpoint you want to use\n",
        "pretrained_model_name_or_path = \"stabilityai/stable-diffusion-2\" #@param [\"stabilityai/stable-diffusion-2\", \"stabilityai/stable-diffusion-2-base\", \"CompVis/stable-diffusion-v1-4\", \"runwayml/stable-diffusion-v1-5\"] {allow-input: true}"
      ]
    },
    {
      "cell_type": "markdown",
      "source": [
        "### Get the training images:"
      ],
      "metadata": {
        "id": "BU5hQlD4ovdQ"
      }
    },
    {
      "cell_type": "markdown",
      "source": [
        "#### Download the images from the internet and save them locally.\n",
        "\n",
        "You can also upload the images to colab or load from google drive, please check the next section if you want to use that."
      ],
      "metadata": {
        "id": "Kj4LkHRxo7Dv"
      }
    },
    {
      "cell_type": "code",
      "source": [
        "#@markdown Add here the URLs to the images of the concept you are adding. 3-5 should be fine\n",
        "urls = [\n",
        "      \"https://huggingface.co/datasets/valhalla/images/resolve/main/2.jpeg\",\n",
        "      \"https://huggingface.co/datasets/valhalla/images/resolve/main/3.jpeg\",\n",
        "      \"https://huggingface.co/datasets/valhalla/images/resolve/main/5.jpeg\",\n",
        "      \"https://huggingface.co/datasets/valhalla/images/resolve/main/6.jpeg\",\n",
        "      ## You can add additional images here\n",
        "]"
      ],
      "metadata": {
        "id": "lO00F6bmn2ru"
      },
      "execution_count": 6,
      "outputs": []
    },
    {
      "cell_type": "code",
      "source": [
        "#@title Download\n",
        "import requests\n",
        "import glob\n",
        "from io import BytesIO\n",
        "\n",
        "def download_image(url):\n",
        "  try:\n",
        "    response = requests.get(url)\n",
        "  except:\n",
        "    return None\n",
        "  return Image.open(BytesIO(response.content)).convert(\"RGB\")\n",
        "\n",
        "images = list(filter(None,[download_image(url) for url in urls]))\n",
        "save_path = \"./my_concept\"\n",
        "if not os.path.exists(save_path):\n",
        "  os.mkdir(save_path)\n",
        "[image.save(f\"{save_path}/{i}.jpeg\") for i, image in enumerate(images)]"
      ],
      "metadata": {
        "id": "PIwPVPxBn0ht",
        "outputId": "e914978e-7e5f-40a1-cd92-b14ba15dd73a",
        "colab": {
          "base_uri": "https://localhost:8080/"
        }
      },
      "execution_count": 7,
      "outputs": [
        {
          "output_type": "execute_result",
          "data": {
            "text/plain": [
              "[None, None, None, None]"
            ]
          },
          "metadata": {},
          "execution_count": 7
        }
      ]
    },
    {
      "cell_type": "markdown",
      "source": [
        "#### Load images from local folder or google drive\n",
        "\n",
        "You can also load your own training images from google drive or upload them to colab usingthe files taband then provide the path to the directory containing images.\n",
        "\n",
        "*Make sure that the directory only contains images as the following cells will read all the files from the provided directory.*"
      ],
      "metadata": {
        "id": "rVLznpOjiBvS"
      }
    },
    {
      "cell_type": "code",
      "source": [
        "from google.colab import drive\n",
        "drive.mount('/content/gdrive')"
      ],
      "metadata": {
        "id": "DPQbv9K9iH3Q",
        "outputId": "81071e96-ec2e-4cab-a680-376671afa572",
        "colab": {
          "base_uri": "https://localhost:8080/"
        }
      },
      "execution_count": 8,
      "outputs": [
        {
          "output_type": "stream",
          "name": "stdout",
          "text": [
            "Mounted at /content/gdrive\n"
          ]
        }
      ]
    },
    {
      "cell_type": "code",
      "source": [
        "#@markdown `images_path` is a path to directory containing the training images. It could\n",
        "images_path = \"my_concept/\" #@param {type:\"string\"}\n",
        "while not os.path.exists(str(images_path)):\n",
        "  print('The images_path specified does not exist, use the colab file explorer to copy the path :')\n",
        "  images_path=input(\"\")\n",
        "save_path = images_path"
      ],
      "metadata": {
        "id": "R1NpK1tSiH8a",
        "outputId": "8ddcacd2-d169-46db-c3e7-f5f8b08fd9eb",
        "colab": {
          "base_uri": "https://localhost:8080/"
        }
      },
      "execution_count": null,
      "outputs": [
        {
          "output_type": "stream",
          "name": "stdout",
          "text": [
            "The images_path specified does not exist, use the colab file explorer to copy the path :\n"
          ]
        }
      ]
    },
    {
      "cell_type": "markdown",
      "source": [
        "####  Setup and check the images you have just added"
      ],
      "metadata": {
        "id": "_AAOoKZNpdSN"
      }
    },
    {
      "cell_type": "code",
      "execution_count": null,
      "metadata": {
        "id": "60jVYSk0BGC8"
      },
      "outputs": [],
      "source": [
        "images = []\n",
        "for file_path in os.listdir(save_path):\n",
        "  try:\n",
        "      image_path = os.path.join(save_path, file_path)\n",
        "      images.append(Image.open(image_path).resize((512, 512)))\n",
        "  except:\n",
        "    print(f\"{image_path} is not a valid image, please make sure to remove this file from the directory otherwise the training could fail.\")\n",
        "image_grid(images, 1, len(images))"
      ]
    },
    {
      "cell_type": "code",
      "execution_count": null,
      "metadata": {
        "cellView": "form",
        "id": "8i_vLTBxAXpE"
      },
      "outputs": [],
      "source": [
        "#@title Settings for your newly created concept\n",
        "#@markdown `what_to_teach`: what is it that you are teaching? `object` enables you to teach the model a new object to be used, `style` allows you to teach the model a new style one can use.\n",
        "what_to_teach = \"object\" #@param [\"object\", \"style\"]\n",
        "#@markdown `placeholder_token` is the token you are going to use to represent your new concept (so when you prompt the model, you will say \"A `<my-placeholder-token>` in an amusement park\"). We use angle brackets to differentiate a token from other words/tokens, to avoid collision.\n",
        "placeholder_token = \"<cat-toy>\" #@param {type:\"string\"}\n",
        "#@markdown `initializer_token` is a word that can summarise what your new concept is, to be used as a starting point\n",
        "initializer_token = \"toy\" #@param {type:\"string\"}"
      ]
    },
    {
      "cell_type": "markdown",
      "metadata": {
        "id": "D633UIuGgs6M"
      },
      "source": [
        "## Teach the model a new concept (fine-tuning with textual inversion)\n",
        "Execute this this sequence of cells to run the training process. The whole process may take from 1-4 hours. (Open this block if you are interested in how this process works under the hood or if you want to change advanced training settings or hyperparameters)"
      ]
    },
    {
      "cell_type": "markdown",
      "metadata": {
        "id": "EuFP688UEwQR"
      },
      "source": [
        "### Create Dataset"
      ]
    },
    {
      "cell_type": "code",
      "execution_count": null,
      "metadata": {
        "cellView": "form",
        "id": "u4c1vbVfnmLf"
      },
      "outputs": [],
      "source": [
        "#@title Setup the prompt templates for training\n",
        "imagenet_templates_small = [\n",
        "    \"a photo of a {}\",\n",
        "    \"a rendering of a {}\",\n",
        "    \"a cropped photo of the {}\",\n",
        "    \"the photo of a {}\",\n",
        "    \"a photo of a clean {}\",\n",
        "    \"a photo of a dirty {}\",\n",
        "    \"a dark photo of the {}\",\n",
        "    \"a photo of my {}\",\n",
        "    \"a photo of the cool {}\",\n",
        "    \"a close-up photo of a {}\",\n",
        "    \"a bright photo of the {}\",\n",
        "    \"a cropped photo of a {}\",\n",
        "    \"a photo of the {}\",\n",
        "    \"a good photo of the {}\",\n",
        "    \"a photo of one {}\",\n",
        "    \"a close-up photo of the {}\",\n",
        "    \"a rendition of the {}\",\n",
        "    \"a photo of the clean {}\",\n",
        "    \"a rendition of a {}\",\n",
        "    \"a photo of a nice {}\",\n",
        "    \"a good photo of a {}\",\n",
        "    \"a photo of the nice {}\",\n",
        "    \"a photo of the small {}\",\n",
        "    \"a photo of the weird {}\",\n",
        "    \"a photo of the large {}\",\n",
        "    \"a photo of a cool {}\",\n",
        "    \"a photo of a small {}\",\n",
        "]\n",
        "\n",
        "imagenet_style_templates_small = [\n",
        "    \"a painting in the style of {}\",\n",
        "    \"a rendering in the style of {}\",\n",
        "    \"a cropped painting in the style of {}\",\n",
        "    \"the painting in the style of {}\",\n",
        "    \"a clean painting in the style of {}\",\n",
        "    \"a dirty painting in the style of {}\",\n",
        "    \"a dark painting in the style of {}\",\n",
        "    \"a picture in the style of {}\",\n",
        "    \"a cool painting in the style of {}\",\n",
        "    \"a close-up painting in the style of {}\",\n",
        "    \"a bright painting in the style of {}\",\n",
        "    \"a cropped painting in the style of {}\",\n",
        "    \"a good painting in the style of {}\",\n",
        "    \"a close-up painting in the style of {}\",\n",
        "    \"a rendition in the style of {}\",\n",
        "    \"a nice painting in the style of {}\",\n",
        "    \"a small painting in the style of {}\",\n",
        "    \"a weird painting in the style of {}\",\n",
        "    \"a large painting in the style of {}\",\n",
        "]"
      ]
    },
    {
      "cell_type": "code",
      "execution_count": null,
      "metadata": {
        "cellView": "form",
        "id": "2ntpEpVfnd-0"
      },
      "outputs": [],
      "source": [
        "#@title Setup the dataset\n",
        "class TextualInversionDataset(Dataset):\n",
        "    def __init__(\n",
        "        self,\n",
        "        data_root,\n",
        "        tokenizer,\n",
        "        learnable_property=\"object\",  # [object, style]\n",
        "        size=512,\n",
        "        repeats=100,\n",
        "        interpolation=\"bicubic\",\n",
        "        flip_p=0.5,\n",
        "        set=\"train\",\n",
        "        placeholder_token=\"*\",\n",
        "        center_crop=False,\n",
        "    ):\n",
        "\n",
        "        self.data_root = data_root\n",
        "        self.tokenizer = tokenizer\n",
        "        self.learnable_property = learnable_property\n",
        "        self.size = size\n",
        "        self.placeholder_token = placeholder_token\n",
        "        self.center_crop = center_crop\n",
        "        self.flip_p = flip_p\n",
        "\n",
        "        self.image_paths = [os.path.join(self.data_root, file_path) for file_path in os.listdir(self.data_root)]\n",
        "\n",
        "        self.num_images = len(self.image_paths)\n",
        "        self._length = self.num_images\n",
        "\n",
        "        if set == \"train\":\n",
        "            self._length = self.num_images * repeats\n",
        "\n",
        "        self.interpolation = {\n",
        "            \"linear\": PIL.Image.LINEAR,\n",
        "            \"bilinear\": PIL.Image.BILINEAR,\n",
        "            \"bicubic\": PIL.Image.BICUBIC,\n",
        "            \"lanczos\": PIL.Image.LANCZOS,\n",
        "        }[interpolation]\n",
        "\n",
        "        self.templates = imagenet_style_templates_small if learnable_property == \"style\" else imagenet_templates_small\n",
        "        self.flip_transform = transforms.RandomHorizontalFlip(p=self.flip_p)\n",
        "\n",
        "    def __len__(self):\n",
        "        return self._length\n",
        "\n",
        "    def __getitem__(self, i):\n",
        "        example = {}\n",
        "        image = Image.open(self.image_paths[i % self.num_images])\n",
        "\n",
        "        if not image.mode == \"RGB\":\n",
        "            image = image.convert(\"RGB\")\n",
        "\n",
        "        placeholder_string = self.placeholder_token\n",
        "        text = random.choice(self.templates).format(placeholder_string)\n",
        "\n",
        "        example[\"input_ids\"] = self.tokenizer(\n",
        "            text,\n",
        "            padding=\"max_length\",\n",
        "            truncation=True,\n",
        "            max_length=self.tokenizer.model_max_length,\n",
        "            return_tensors=\"pt\",\n",
        "        ).input_ids[0]\n",
        "\n",
        "        # default to score-sde preprocessing\n",
        "        img = np.array(image).astype(np.uint8)\n",
        "\n",
        "        if self.center_crop:\n",
        "            crop = min(img.shape[0], img.shape[1])\n",
        "            h, w, = (\n",
        "                img.shape[0],\n",
        "                img.shape[1],\n",
        "            )\n",
        "            img = img[(h - crop) // 2 : (h + crop) // 2, (w - crop) // 2 : (w + crop) // 2]\n",
        "\n",
        "        image = Image.fromarray(img)\n",
        "        image = image.resize((self.size, self.size), resample=self.interpolation)\n",
        "\n",
        "        image = self.flip_transform(image)\n",
        "        image = np.array(image).astype(np.uint8)\n",
        "        image = (image / 127.5 - 1.0).astype(np.float32)\n",
        "\n",
        "        example[\"pixel_values\"] = torch.from_numpy(image).permute(2, 0, 1)\n",
        "        return example"
      ]
    },
    {
      "cell_type": "markdown",
      "metadata": {
        "id": "TmrXxJ-Eijwb"
      },
      "source": [
        "### Setting up the model"
      ]
    },
    {
      "cell_type": "code",
      "execution_count": null,
      "metadata": {
        "cellView": "form",
        "id": "gIFaJum5nqeo"
      },
      "outputs": [],
      "source": [
        "#@title Load the tokenizer and add the placeholder token as a additional special token.\n",
        "tokenizer = CLIPTokenizer.from_pretrained(\n",
        "    pretrained_model_name_or_path,\n",
        "    subfolder=\"tokenizer\",\n",
        ")\n",
        "\n",
        "# Add the placeholder token in tokenizer\n",
        "num_added_tokens = tokenizer.add_tokens(placeholder_token)\n",
        "if num_added_tokens == 0:\n",
        "    raise ValueError(\n",
        "        f\"The tokenizer already contains the token {placeholder_token}. Please pass a different\"\n",
        "        \" `placeholder_token` that is not already in the tokenizer.\"\n",
        "    )"
      ]
    },
    {
      "cell_type": "code",
      "execution_count": null,
      "metadata": {
        "cellView": "form",
        "id": "5jgTNr7roCnV"
      },
      "outputs": [],
      "source": [
        "#@title Get token ids for our placeholder and initializer token. This code block will complain if initializer string is not a single token\n",
        "# Convert the initializer_token, placeholder_token to ids\n",
        "token_ids = tokenizer.encode(initializer_token, add_special_tokens=False)\n",
        "# Check if initializer_token is a single token or a sequence of tokens\n",
        "if len(token_ids) > 1:\n",
        "    raise ValueError(\"The initializer token must be a single token.\")\n",
        "\n",
        "initializer_token_id = token_ids[0]\n",
        "placeholder_token_id = tokenizer.convert_tokens_to_ids(placeholder_token)"
      ]
    },
    {
      "cell_type": "code",
      "execution_count": null,
      "metadata": {
        "cellView": "form",
        "id": "27Ip3q9YoFut"
      },
      "outputs": [],
      "source": [
        "#@title Load the Stable Diffusion model\n",
        "# Load models and create wrapper for stable diffusion\n",
        "# pipeline = StableDiffusionPipeline.from_pretrained(pretrained_model_name_or_path)\n",
        "# del pipeline\n",
        "text_encoder = CLIPTextModel.from_pretrained(\n",
        "    pretrained_model_name_or_path, subfolder=\"text_encoder\"\n",
        ")\n",
        "vae = AutoencoderKL.from_pretrained(\n",
        "    pretrained_model_name_or_path, subfolder=\"vae\"\n",
        ")\n",
        "unet = UNet2DConditionModel.from_pretrained(\n",
        "    pretrained_model_name_or_path, subfolder=\"unet\"\n",
        ")"
      ]
    },
    {
      "cell_type": "markdown",
      "metadata": {
        "id": "GD5MU6EzFe27"
      },
      "source": [
        "We have added the `placeholder_token` in the `tokenizer` so we resize the token embeddings here, this will a new embedding vector in the token embeddings for our `placeholder_token`"
      ]
    },
    {
      "cell_type": "code",
      "execution_count": null,
      "metadata": {
        "id": "24-9I6mIoORT"
      },
      "outputs": [],
      "source": [
        "text_encoder.resize_token_embeddings(len(tokenizer))"
      ]
    },
    {
      "cell_type": "markdown",
      "metadata": {
        "id": "IA3Xj7gBFv-6"
      },
      "source": [
        " Initialise the newly added placeholder token with the embeddings of the initializer token"
      ]
    },
    {
      "cell_type": "code",
      "execution_count": null,
      "metadata": {
        "id": "0mtxiZMNoQvE"
      },
      "outputs": [],
      "source": [
        "token_embeds = text_encoder.get_input_embeddings().weight.data\n",
        "token_embeds[placeholder_token_id] = token_embeds[initializer_token_id]"
      ]
    },
    {
      "cell_type": "markdown",
      "metadata": {
        "id": "bQFUhImyFzoS"
      },
      "source": [
        "In Textual-Inversion we only train the newly added embedding vector, so lets freeze rest of the model parameters here"
      ]
    },
    {
      "cell_type": "code",
      "execution_count": null,
      "metadata": {
        "id": "vQOYhpPqoS4H"
      },
      "outputs": [],
      "source": [
        "def freeze_params(params):\n",
        "    for param in params:\n",
        "        param.requires_grad = False\n",
        "\n",
        "# Freeze vae and unet\n",
        "freeze_params(vae.parameters())\n",
        "freeze_params(unet.parameters())\n",
        "# Freeze all parameters except for the token embeddings in text encoder\n",
        "params_to_freeze = itertools.chain(\n",
        "    text_encoder.text_model.encoder.parameters(),\n",
        "    text_encoder.text_model.final_layer_norm.parameters(),\n",
        "    text_encoder.text_model.embeddings.position_embedding.parameters(),\n",
        ")\n",
        "freeze_params(params_to_freeze)"
      ]
    },
    {
      "cell_type": "markdown",
      "metadata": {
        "id": "KGfNa4dFF8Om"
      },
      "source": [
        "### Creating our training data"
      ]
    },
    {
      "cell_type": "markdown",
      "metadata": {
        "id": "UG_cy1BrGDIo"
      },
      "source": [
        "Let's create the Dataset and Dataloader"
      ]
    },
    {
      "cell_type": "code",
      "execution_count": null,
      "metadata": {
        "id": "bctHoiRPoWlY"
      },
      "outputs": [],
      "source": [
        "train_dataset = TextualInversionDataset(\n",
        "      data_root=save_path,\n",
        "      tokenizer=tokenizer,\n",
        "      size=vae.sample_size,\n",
        "      placeholder_token=placeholder_token,\n",
        "      repeats=100,\n",
        "      learnable_property=what_to_teach, #Option selected above between object and style\n",
        "      center_crop=False,\n",
        "      set=\"train\",\n",
        ")"
      ]
    },
    {
      "cell_type": "code",
      "execution_count": null,
      "metadata": {
        "id": "MEjOV1VPpB9U"
      },
      "outputs": [],
      "source": [
        "def create_dataloader(train_batch_size=1):\n",
        "    return torch.utils.data.DataLoader(train_dataset, batch_size=train_batch_size, shuffle=True)"
      ]
    },
    {
      "cell_type": "markdown",
      "metadata": {
        "id": "zmlMwmH5GOhJ"
      },
      "source": [
        "Create noise_scheduler for training"
      ]
    },
    {
      "cell_type": "code",
      "execution_count": null,
      "metadata": {
        "id": "0MTkwTNxpRnq"
      },
      "outputs": [],
      "source": [
        "noise_scheduler = DDPMScheduler.from_config(pretrained_model_name_or_path, subfolder=\"scheduler\")"
      ]
    },
    {
      "cell_type": "markdown",
      "source": [
        "### Training"
      ],
      "metadata": {
        "id": "Wbhq4Js2iD2i"
      }
    },
    {
      "cell_type": "markdown",
      "metadata": {
        "id": "GJ4r0gzvGSg7"
      },
      "source": [
        "Define hyperparameters for our training\n",
        "If you are not happy with your results, you can tune the `learning_rate` and the `max_train_steps`"
      ]
    },
    {
      "cell_type": "code",
      "execution_count": null,
      "metadata": {
        "id": "pnq5vah7pabU"
      },
      "outputs": [],
      "source": [
        "#@title Setting up all training args\n",
        "hyperparameters = {\n",
        "    \"learning_rate\": 5e-04,\n",
        "    \"scale_lr\": True,\n",
        "    \"max_train_steps\": 2000,\n",
        "    \"save_steps\": 250,\n",
        "    \"train_batch_size\": 4,\n",
        "    \"gradient_accumulation_steps\": 1,\n",
        "    \"gradient_checkpointing\": True,\n",
        "    \"mixed_precision\": \"fp16\",\n",
        "    \"seed\": 42,\n",
        "    \"output_dir\": \"sd-concept-output\"\n",
        "}\n",
        "!mkdir -p sd-concept-output"
      ]
    },
    {
      "cell_type": "markdown",
      "metadata": {
        "id": "YNuNDw0wNN5X"
      },
      "source": [
        "Train!"
      ]
    },
    {
      "cell_type": "code",
      "execution_count": null,
      "metadata": {
        "id": "djBS3343sIiY"
      },
      "outputs": [],
      "source": [
        "#@title Training function\n",
        "logger = get_logger(__name__)\n",
        "\n",
        "def save_progress(text_encoder, placeholder_token_id, accelerator, save_path):\n",
        "    logger.info(\"Saving embeddings\")\n",
        "    learned_embeds = accelerator.unwrap_model(text_encoder).get_input_embeddings().weight[placeholder_token_id]\n",
        "    learned_embeds_dict = {placeholder_token: learned_embeds.detach().cpu()}\n",
        "    torch.save(learned_embeds_dict, save_path)\n",
        "\n",
        "def training_function(text_encoder, vae, unet):\n",
        "    train_batch_size = hyperparameters[\"train_batch_size\"]\n",
        "    gradient_accumulation_steps = hyperparameters[\"gradient_accumulation_steps\"]\n",
        "    learning_rate = hyperparameters[\"learning_rate\"]\n",
        "    max_train_steps = hyperparameters[\"max_train_steps\"]\n",
        "    output_dir = hyperparameters[\"output_dir\"]\n",
        "    gradient_checkpointing = hyperparameters[\"gradient_checkpointing\"]\n",
        "\n",
        "    accelerator = Accelerator(\n",
        "        gradient_accumulation_steps=gradient_accumulation_steps,\n",
        "        mixed_precision=hyperparameters[\"mixed_precision\"]\n",
        "    )\n",
        "\n",
        "    if gradient_checkpointing:\n",
        "        text_encoder.gradient_checkpointing_enable()\n",
        "        unet.enable_gradient_checkpointing()\n",
        "\n",
        "    train_dataloader = create_dataloader(train_batch_size)\n",
        "\n",
        "    if hyperparameters[\"scale_lr\"]:\n",
        "        learning_rate = (\n",
        "            learning_rate * gradient_accumulation_steps * train_batch_size * accelerator.num_processes\n",
        "        )\n",
        "\n",
        "    # Initialize the optimizer\n",
        "    optimizer = torch.optim.AdamW(\n",
        "        text_encoder.get_input_embeddings().parameters(),  # only optimize the embeddings\n",
        "        lr=learning_rate,\n",
        "    )\n",
        "\n",
        "    text_encoder, optimizer, train_dataloader = accelerator.prepare(\n",
        "        text_encoder, optimizer, train_dataloader\n",
        "    )\n",
        "\n",
        "    weight_dtype = torch.float32\n",
        "    if accelerator.mixed_precision == \"fp16\":\n",
        "        weight_dtype = torch.float16\n",
        "    elif accelerator.mixed_precision == \"bf16\":\n",
        "        weight_dtype = torch.bfloat16\n",
        "\n",
        "    # Move vae and unet to device\n",
        "    vae.to(accelerator.device, dtype=weight_dtype)\n",
        "    unet.to(accelerator.device, dtype=weight_dtype)\n",
        "\n",
        "    # Keep vae in eval mode as we don't train it\n",
        "    vae.eval()\n",
        "    # Keep unet in train mode to enable gradient checkpointing\n",
        "    unet.train()\n",
        "\n",
        "\n",
        "    # We need to recalculate our total training steps as the size of the training dataloader may have changed.\n",
        "    num_update_steps_per_epoch = math.ceil(len(train_dataloader) / gradient_accumulation_steps)\n",
        "    num_train_epochs = math.ceil(max_train_steps / num_update_steps_per_epoch)\n",
        "\n",
        "    # Train!\n",
        "    total_batch_size = train_batch_size * accelerator.num_processes * gradient_accumulation_steps\n",
        "\n",
        "    logger.info(\"***** Running training *****\")\n",
        "    logger.info(f\"  Num examples = {len(train_dataset)}\")\n",
        "    logger.info(f\"  Instantaneous batch size per device = {train_batch_size}\")\n",
        "    logger.info(f\"  Total train batch size (w. parallel, distributed & accumulation) = {total_batch_size}\")\n",
        "    logger.info(f\"  Gradient Accumulation steps = {gradient_accumulation_steps}\")\n",
        "    logger.info(f\"  Total optimization steps = {max_train_steps}\")\n",
        "    # Only show the progress bar once on each machine.\n",
        "    progress_bar = tqdm(range(max_train_steps), disable=not accelerator.is_local_main_process)\n",
        "    progress_bar.set_description(\"Steps\")\n",
        "    global_step = 0\n",
        "\n",
        "    for epoch in range(num_train_epochs):\n",
        "        text_encoder.train()\n",
        "        for step, batch in enumerate(train_dataloader):\n",
        "            with accelerator.accumulate(text_encoder):\n",
        "                # Convert images to latent space\n",
        "                latents = vae.encode(batch[\"pixel_values\"].to(dtype=weight_dtype)).latent_dist.sample().detach()\n",
        "                latents = latents * 0.18215\n",
        "\n",
        "                # Sample noise that we'll add to the latents\n",
        "                noise = torch.randn_like(latents)\n",
        "                bsz = latents.shape[0]\n",
        "                # Sample a random timestep for each image\n",
        "                timesteps = torch.randint(0, noise_scheduler.num_train_timesteps, (bsz,), device=latents.device).long()\n",
        "\n",
        "                # Add noise to the latents according to the noise magnitude at each timestep\n",
        "                # (this is the forward diffusion process)\n",
        "                noisy_latents = noise_scheduler.add_noise(latents, noise, timesteps)\n",
        "\n",
        "                # Get the text embedding for conditioning\n",
        "                encoder_hidden_states = text_encoder(batch[\"input_ids\"])[0]\n",
        "\n",
        "                # Predict the noise residual\n",
        "                noise_pred = unet(noisy_latents, timesteps, encoder_hidden_states.to(weight_dtype)).sample\n",
        "\n",
        "                 # Get the target for loss depending on the prediction type\n",
        "                if noise_scheduler.config.prediction_type == \"epsilon\":\n",
        "                    target = noise\n",
        "                elif noise_scheduler.config.prediction_type == \"v_prediction\":\n",
        "                    target = noise_scheduler.get_velocity(latents, noise, timesteps)\n",
        "                else:\n",
        "                    raise ValueError(f\"Unknown prediction type {noise_scheduler.config.prediction_type}\")\n",
        "\n",
        "                loss = F.mse_loss(noise_pred, target, reduction=\"none\").mean([1, 2, 3]).mean()\n",
        "                accelerator.backward(loss)\n",
        "\n",
        "                # Zero out the gradients for all token embeddings except the newly added\n",
        "                # embeddings for the concept, as we only want to optimize the concept embeddings\n",
        "                if accelerator.num_processes > 1:\n",
        "                    grads = text_encoder.module.get_input_embeddings().weight.grad\n",
        "                else:\n",
        "                    grads = text_encoder.get_input_embeddings().weight.grad\n",
        "                # Get the index for tokens that we want to zero the grads for\n",
        "                index_grads_to_zero = torch.arange(len(tokenizer)) != placeholder_token_id\n",
        "                grads.data[index_grads_to_zero, :] = grads.data[index_grads_to_zero, :].fill_(0)\n",
        "\n",
        "                optimizer.step()\n",
        "                optimizer.zero_grad()\n",
        "\n",
        "            # Checks if the accelerator has performed an optimization step behind the scenes\n",
        "            if accelerator.sync_gradients:\n",
        "                progress_bar.update(1)\n",
        "                global_step += 1\n",
        "                if global_step % hyperparameters[\"save_steps\"] == 0:\n",
        "                    save_path = os.path.join(output_dir, f\"learned_embeds-step-{global_step}.bin\")\n",
        "                    save_progress(text_encoder, placeholder_token_id, accelerator, save_path)\n",
        "\n",
        "            logs = {\"loss\": loss.detach().item()}\n",
        "            progress_bar.set_postfix(**logs)\n",
        "\n",
        "            if global_step >= max_train_steps:\n",
        "                break\n",
        "\n",
        "        accelerator.wait_for_everyone()\n",
        "\n",
        "\n",
        "    # Create the pipeline using using the trained modules and save it.\n",
        "    if accelerator.is_main_process:\n",
        "        pipeline = StableDiffusionPipeline.from_pretrained(\n",
        "            pretrained_model_name_or_path,\n",
        "            text_encoder=accelerator.unwrap_model(text_encoder),\n",
        "            tokenizer=tokenizer,\n",
        "            vae=vae,\n",
        "            unet=unet,\n",
        "        )\n",
        "        pipeline.save_pretrained(output_dir)\n",
        "        # Also save the newly trained embeddings\n",
        "        save_path = os.path.join(output_dir, f\"learned_embeds.bin\")\n",
        "        save_progress(text_encoder, placeholder_token_id, accelerator, save_path)"
      ]
    },
    {
      "cell_type": "code",
      "execution_count": null,
      "metadata": {
        "id": "jXi0NdsyBA4S"
      },
      "outputs": [],
      "source": [
        "import accelerate\n",
        "accelerate.notebook_launcher(training_function, args=(text_encoder, vae, unet))\n",
        "\n",
        "for param in itertools.chain(unet.parameters(), text_encoder.parameters()):\n",
        "  if param.grad is not None:\n",
        "    del param.grad  # free some memory\n",
        "  torch.cuda.empty_cache()"
      ]
    },
    {
      "cell_type": "markdown",
      "metadata": {
        "id": "50JuJUM8EG1h"
      },
      "source": [
        "## Run the code with your newly trained model\n",
        "If you have just trained your model with the code above, use the block below to run it\n",
        "\n",
        "To save this concept for re-using, download the `learned_embeds.bin` file or save it on the library of concepts.\n",
        "\n",
        "Use the [Stable Conceptualizer notebook](https://colab.research.google.com/github/huggingface/notebooks/blob/main/diffusers/stable_conceptualizer_inference.ipynb) for inference with persistently saved pre-trained concepts"
      ]
    },
    {
      "cell_type": "code",
      "execution_count": null,
      "metadata": {
        "id": "gTlUJYB1QNSN"
      },
      "outputs": [],
      "source": [
        "#@title Save your newly created concept to the [library of concepts](https://huggingface.co/sd-concepts-library)?\n",
        "\n",
        "save_concept_to_public_library = True #@param {type:\"boolean\"}\n",
        "name_of_your_concept = \"Cat toy\" #@param {type:\"string\"}\n",
        "#@markdown `hf_token_write`: leave blank if you logged in with a token with `write access` in the [Initial Setup](#scrollTo=KbzZ9xe6dWwf). If not, [go to your tokens settings and create a write access token](https://huggingface.co/settings/tokens)\n",
        "hf_token_write = \"\" #@param {type:\"string\"}\n",
        "\n",
        "if(save_concept_to_public_library):\n",
        "  from slugify import slugify\n",
        "  from huggingface_hub import HfApi, HfFolder, CommitOperationAdd\n",
        "  from huggingface_hub import create_repo\n",
        "  repo_id = f\"sd-concepts-library/{slugify(name_of_your_concept)}\"\n",
        "  output_dir = hyperparameters[\"output_dir\"]\n",
        "  if(not hf_token_write):\n",
        "    with open(HfFolder.path_token, 'r') as fin: hf_token = fin.read();\n",
        "  else:\n",
        "    hf_token = hf_token_write\n",
        "  #Join the Concepts Library organization if you aren't part of it already\n",
        "  !curl -X POST -H 'Authorization: Bearer '$hf_token -H 'Content-Type: application/json' https://huggingface.co/organizations/sd-concepts-library/share/VcLXJtzwwxnHYCkNMLpSJCdnNFZHQwWywv\n",
        "  images_upload = os.listdir(\"my_concept\")\n",
        "  image_string = \"\"\n",
        "  repo_id = f\"sd-concepts-library/{slugify(name_of_your_concept)}\"\n",
        "  for i, image in enumerate(images_upload):\n",
        "      image_string = f'''{image_string}![{placeholder_token} {i}](https://huggingface.co/{repo_id}/resolve/main/concept_images/{image})\n",
        "'''\n",
        "  if(what_to_teach == \"style\"):\n",
        "      what_to_teach_article = f\"a `{what_to_teach}`\"\n",
        "  else:\n",
        "      what_to_teach_article = f\"an `{what_to_teach}`\"\n",
        "  readme_text = f'''---\n",
        "license: mit\n",
        "base_model: {pretrained_model_name_or_path}\n",
        "---\n",
        "### {name_of_your_concept} on Stable Diffusion\n",
        "This is the `{placeholder_token}` concept taught to Stable Diffusion via Textual Inversion. You can load this concept into the [Stable Conceptualizer](https://colab.research.google.com/github/huggingface/notebooks/blob/main/diffusers/stable_conceptualizer_inference.ipynb) notebook. You can also train your own concepts and load them into the concept libraries using [this notebook](https://colab.research.google.com/github/huggingface/notebooks/blob/main/diffusers/sd_textual_inversion_training.ipynb).\n",
        "\n",
        "Here is the new concept you will be able to use as {what_to_teach_article}:\n",
        "{image_string}\n",
        "'''\n",
        "  #Save the readme to a file\n",
        "  readme_file = open(\"README.md\", \"w\")\n",
        "  readme_file.write(readme_text)\n",
        "  readme_file.close()\n",
        "  #Save the token identifier to a file\n",
        "  text_file = open(\"token_identifier.txt\", \"w\")\n",
        "  text_file.write(placeholder_token)\n",
        "  text_file.close()\n",
        "  #Save the type of teached thing to a file\n",
        "  type_file = open(\"type_of_concept.txt\",\"w\")\n",
        "  type_file.write(what_to_teach)\n",
        "  type_file.close()\n",
        "  operations = [\n",
        "    CommitOperationAdd(path_in_repo=\"learned_embeds.bin\", path_or_fileobj=f\"{output_dir}/learned_embeds.bin\"),\n",
        "    CommitOperationAdd(path_in_repo=\"token_identifier.txt\", path_or_fileobj=\"token_identifier.txt\"),\n",
        "    CommitOperationAdd(path_in_repo=\"type_of_concept.txt\", path_or_fileobj=\"type_of_concept.txt\"),\n",
        "    CommitOperationAdd(path_in_repo=\"README.md\", path_or_fileobj=\"README.md\"),\n",
        "  ]\n",
        "  create_repo(repo_id,private=True, token=hf_token)\n",
        "  api = HfApi()\n",
        "  api.create_commit(\n",
        "    repo_id=repo_id,\n",
        "    operations=operations,\n",
        "    commit_message=f\"Upload the concept {name_of_your_concept} embeds and token\",\n",
        "    token=hf_token\n",
        "  )\n",
        "  api.upload_folder(\n",
        "    folder_path=save_path,\n",
        "    path_in_repo=\"concept_images\",\n",
        "    repo_id=repo_id,\n",
        "    token=hf_token\n",
        "  )"
      ]
    },
    {
      "cell_type": "code",
      "execution_count": null,
      "metadata": {
        "id": "2CMlPbOeEC09"
      },
      "outputs": [],
      "source": [
        "#@title Set up the pipeline\n",
        "from diffusers import DPMSolverMultistepScheduler\n",
        "pipe = StableDiffusionPipeline.from_pretrained(\n",
        "    hyperparameters[\"output_dir\"],\n",
        "    scheduler=DPMSolverMultistepScheduler.from_pretrained(hyperparameters[\"output_dir\"], subfolder=\"scheduler\"),\n",
        "    torch_dtype=torch.float16,\n",
        ").to(\"cuda\")"
      ]
    },
    {
      "cell_type": "code",
      "execution_count": null,
      "metadata": {
        "id": "E3UREGd7EkLh"
      },
      "outputs": [],
      "source": [
        "#@title Run the Stable Diffusion pipeline\n",
        "#@markdown Don't forget to use the placeholder token in your prompt\n",
        "\n",
        "prompt = \"a \\u003Ccat-toy> inside ramen-bowl\" #@param {type:\"string\"}\n",
        "\n",
        "num_samples = 2 #@param {type:\"number\"}\n",
        "num_rows = 1 #@param {type:\"number\"}\n",
        "\n",
        "all_images = []\n",
        "for _ in range(num_rows):\n",
        "    images = pipe([prompt] * num_samples, num_inference_steps=30, guidance_scale=7.5).images\n",
        "    all_images.extend(images)\n",
        "\n",
        "grid = image_grid(all_images, num_rows, num_samples)\n",
        "grid"
      ]
    },
    {
      "cell_type": "code",
      "source": [],
      "metadata": {
        "id": "-AOl9I4eCArY"
      },
      "execution_count": null,
      "outputs": []
    }
  ],
  "metadata": {
    "accelerator": "GPU",
    "colab": {
      "collapsed_sections": [
        "D633UIuGgs6M"
      ],
      "machine_shape": "hm",
      "provenance": []
    },
    "gpuClass": "standard",
    "kernelspec": {
      "display_name": "Python 3.7.9 64-bit ('3.7.9')",
      "language": "python",
      "name": "python3"
    },
    "language_info": {
      "name": "python",
      "version": "3.7.9"
    },
    "vscode": {
      "interpreter": {
        "hash": "76721e0cd9246c299eb22246d1f3c601ec1aef6bd84d45d2547549094e7b6fb7"
      }
    },
    "widgets": {
      "application/vnd.jupyter.widget-state+json": {
        "126944f795424dc8a57aac86418f73df": {
          "model_module": "@jupyter-widgets/controls",
          "model_name": "VBoxModel",
          "model_module_version": "1.5.0",
          "state": {
            "_dom_classes": [],
            "_model_module": "@jupyter-widgets/controls",
            "_model_module_version": "1.5.0",
            "_model_name": "VBoxModel",
            "_view_count": null,
            "_view_module": "@jupyter-widgets/controls",
            "_view_module_version": "1.5.0",
            "_view_name": "VBoxView",
            "box_style": "",
            "children": [
              "IPY_MODEL_783f6b1d97494dbe95ed4149e00e748e",
              "IPY_MODEL_ee677b619297448bbabf496394cd5fd2",
              "IPY_MODEL_4f1c988c12c14e9aa84b0bc17bb634a3",
              "IPY_MODEL_10b8c29864ca46a2b9c6b3cab72c2f59",
              "IPY_MODEL_008c20b22d0f4e66b421599c7b1707d4"
            ],
            "layout": "IPY_MODEL_46140e157d9d46169fe22f4cd4fb3543"
          }
        },
        "783f6b1d97494dbe95ed4149e00e748e": {
          "model_module": "@jupyter-widgets/controls",
          "model_name": "HTMLModel",
          "model_module_version": "1.5.0",
          "state": {
            "_dom_classes": [],
            "_model_module": "@jupyter-widgets/controls",
            "_model_module_version": "1.5.0",
            "_model_name": "HTMLModel",
            "_view_count": null,
            "_view_module": "@jupyter-widgets/controls",
            "_view_module_version": "1.5.0",
            "_view_name": "HTMLView",
            "description": "",
            "description_tooltip": null,
            "layout": "IPY_MODEL_c377eebd262a4cbc828244d7b68111c9",
            "placeholder": "​",
            "style": "IPY_MODEL_39eb50b4593b47098532a2c0c234afb4",
            "value": "<center> <img\nsrc=https://huggingface.co/front/assets/huggingface_logo-noborder.svg\nalt='Hugging Face'> <br> Copy a token from <a\nhref=\"https://huggingface.co/settings/tokens\" target=\"_blank\">your Hugging Face\ntokens page</a> and paste it below. <br> Immediately click login after copying\nyour token or it might be stored in plain text in this notebook file. </center>"
          }
        },
        "ee677b619297448bbabf496394cd5fd2": {
          "model_module": "@jupyter-widgets/controls",
          "model_name": "PasswordModel",
          "model_module_version": "1.5.0",
          "state": {
            "_dom_classes": [],
            "_model_module": "@jupyter-widgets/controls",
            "_model_module_version": "1.5.0",
            "_model_name": "PasswordModel",
            "_view_count": null,
            "_view_module": "@jupyter-widgets/controls",
            "_view_module_version": "1.5.0",
            "_view_name": "PasswordView",
            "continuous_update": true,
            "description": "Token:",
            "description_tooltip": null,
            "disabled": false,
            "layout": "IPY_MODEL_edb6fdfe8fe04301931f007e97b78979",
            "placeholder": "​",
            "style": "IPY_MODEL_e0925feb531e4d13a83e8706bd5d5ac4",
            "value": ""
          }
        },
        "4f1c988c12c14e9aa84b0bc17bb634a3": {
          "model_module": "@jupyter-widgets/controls",
          "model_name": "CheckboxModel",
          "model_module_version": "1.5.0",
          "state": {
            "_dom_classes": [],
            "_model_module": "@jupyter-widgets/controls",
            "_model_module_version": "1.5.0",
            "_model_name": "CheckboxModel",
            "_view_count": null,
            "_view_module": "@jupyter-widgets/controls",
            "_view_module_version": "1.5.0",
            "_view_name": "CheckboxView",
            "description": "Add token as git credential?",
            "description_tooltip": null,
            "disabled": false,
            "indent": true,
            "layout": "IPY_MODEL_154088f25160472a86395afb33621f7a",
            "style": "IPY_MODEL_a24e177593664741993a4a1b369f84c5",
            "value": true
          }
        },
        "10b8c29864ca46a2b9c6b3cab72c2f59": {
          "model_module": "@jupyter-widgets/controls",
          "model_name": "ButtonModel",
          "model_module_version": "1.5.0",
          "state": {
            "_dom_classes": [],
            "_model_module": "@jupyter-widgets/controls",
            "_model_module_version": "1.5.0",
            "_model_name": "ButtonModel",
            "_view_count": null,
            "_view_module": "@jupyter-widgets/controls",
            "_view_module_version": "1.5.0",
            "_view_name": "ButtonView",
            "button_style": "",
            "description": "Login",
            "disabled": false,
            "icon": "",
            "layout": "IPY_MODEL_ec4559767b3243548f3d4377c26df8b5",
            "style": "IPY_MODEL_a208e72e590c4bf8b2829d7e45172248",
            "tooltip": ""
          }
        },
        "008c20b22d0f4e66b421599c7b1707d4": {
          "model_module": "@jupyter-widgets/controls",
          "model_name": "HTMLModel",
          "model_module_version": "1.5.0",
          "state": {
            "_dom_classes": [],
            "_model_module": "@jupyter-widgets/controls",
            "_model_module_version": "1.5.0",
            "_model_name": "HTMLModel",
            "_view_count": null,
            "_view_module": "@jupyter-widgets/controls",
            "_view_module_version": "1.5.0",
            "_view_name": "HTMLView",
            "description": "",
            "description_tooltip": null,
            "layout": "IPY_MODEL_77c7e58fb9364d1ea854c8e27e122939",
            "placeholder": "​",
            "style": "IPY_MODEL_81c63b56a1bb46ba8d77dc0e847091e2",
            "value": "\n<b>Pro Tip:</b> If you don't already have one, you can create a dedicated\n'notebooks' token with 'write' access, that you can then easily reuse for all\nnotebooks. </center>"
          }
        },
        "46140e157d9d46169fe22f4cd4fb3543": {
          "model_module": "@jupyter-widgets/base",
          "model_name": "LayoutModel",
          "model_module_version": "1.2.0",
          "state": {
            "_model_module": "@jupyter-widgets/base",
            "_model_module_version": "1.2.0",
            "_model_name": "LayoutModel",
            "_view_count": null,
            "_view_module": "@jupyter-widgets/base",
            "_view_module_version": "1.2.0",
            "_view_name": "LayoutView",
            "align_content": null,
            "align_items": "center",
            "align_self": null,
            "border": null,
            "bottom": null,
            "display": "flex",
            "flex": null,
            "flex_flow": "column",
            "grid_area": null,
            "grid_auto_columns": null,
            "grid_auto_flow": null,
            "grid_auto_rows": null,
            "grid_column": null,
            "grid_gap": null,
            "grid_row": null,
            "grid_template_areas": null,
            "grid_template_columns": null,
            "grid_template_rows": null,
            "height": null,
            "justify_content": null,
            "justify_items": null,
            "left": null,
            "margin": null,
            "max_height": null,
            "max_width": null,
            "min_height": null,
            "min_width": null,
            "object_fit": null,
            "object_position": null,
            "order": null,
            "overflow": null,
            "overflow_x": null,
            "overflow_y": null,
            "padding": null,
            "right": null,
            "top": null,
            "visibility": null,
            "width": "50%"
          }
        },
        "c377eebd262a4cbc828244d7b68111c9": {
          "model_module": "@jupyter-widgets/base",
          "model_name": "LayoutModel",
          "model_module_version": "1.2.0",
          "state": {
            "_model_module": "@jupyter-widgets/base",
            "_model_module_version": "1.2.0",
            "_model_name": "LayoutModel",
            "_view_count": null,
            "_view_module": "@jupyter-widgets/base",
            "_view_module_version": "1.2.0",
            "_view_name": "LayoutView",
            "align_content": null,
            "align_items": null,
            "align_self": null,
            "border": null,
            "bottom": null,
            "display": null,
            "flex": null,
            "flex_flow": null,
            "grid_area": null,
            "grid_auto_columns": null,
            "grid_auto_flow": null,
            "grid_auto_rows": null,
            "grid_column": null,
            "grid_gap": null,
            "grid_row": null,
            "grid_template_areas": null,
            "grid_template_columns": null,
            "grid_template_rows": null,
            "height": null,
            "justify_content": null,
            "justify_items": null,
            "left": null,
            "margin": null,
            "max_height": null,
            "max_width": null,
            "min_height": null,
            "min_width": null,
            "object_fit": null,
            "object_position": null,
            "order": null,
            "overflow": null,
            "overflow_x": null,
            "overflow_y": null,
            "padding": null,
            "right": null,
            "top": null,
            "visibility": null,
            "width": null
          }
        },
        "39eb50b4593b47098532a2c0c234afb4": {
          "model_module": "@jupyter-widgets/controls",
          "model_name": "DescriptionStyleModel",
          "model_module_version": "1.5.0",
          "state": {
            "_model_module": "@jupyter-widgets/controls",
            "_model_module_version": "1.5.0",
            "_model_name": "DescriptionStyleModel",
            "_view_count": null,
            "_view_module": "@jupyter-widgets/base",
            "_view_module_version": "1.2.0",
            "_view_name": "StyleView",
            "description_width": ""
          }
        },
        "edb6fdfe8fe04301931f007e97b78979": {
          "model_module": "@jupyter-widgets/base",
          "model_name": "LayoutModel",
          "model_module_version": "1.2.0",
          "state": {
            "_model_module": "@jupyter-widgets/base",
            "_model_module_version": "1.2.0",
            "_model_name": "LayoutModel",
            "_view_count": null,
            "_view_module": "@jupyter-widgets/base",
            "_view_module_version": "1.2.0",
            "_view_name": "LayoutView",
            "align_content": null,
            "align_items": null,
            "align_self": null,
            "border": null,
            "bottom": null,
            "display": null,
            "flex": null,
            "flex_flow": null,
            "grid_area": null,
            "grid_auto_columns": null,
            "grid_auto_flow": null,
            "grid_auto_rows": null,
            "grid_column": null,
            "grid_gap": null,
            "grid_row": null,
            "grid_template_areas": null,
            "grid_template_columns": null,
            "grid_template_rows": null,
            "height": null,
            "justify_content": null,
            "justify_items": null,
            "left": null,
            "margin": null,
            "max_height": null,
            "max_width": null,
            "min_height": null,
            "min_width": null,
            "object_fit": null,
            "object_position": null,
            "order": null,
            "overflow": null,
            "overflow_x": null,
            "overflow_y": null,
            "padding": null,
            "right": null,
            "top": null,
            "visibility": null,
            "width": null
          }
        },
        "e0925feb531e4d13a83e8706bd5d5ac4": {
          "model_module": "@jupyter-widgets/controls",
          "model_name": "DescriptionStyleModel",
          "model_module_version": "1.5.0",
          "state": {
            "_model_module": "@jupyter-widgets/controls",
            "_model_module_version": "1.5.0",
            "_model_name": "DescriptionStyleModel",
            "_view_count": null,
            "_view_module": "@jupyter-widgets/base",
            "_view_module_version": "1.2.0",
            "_view_name": "StyleView",
            "description_width": ""
          }
        },
        "154088f25160472a86395afb33621f7a": {
          "model_module": "@jupyter-widgets/base",
          "model_name": "LayoutModel",
          "model_module_version": "1.2.0",
          "state": {
            "_model_module": "@jupyter-widgets/base",
            "_model_module_version": "1.2.0",
            "_model_name": "LayoutModel",
            "_view_count": null,
            "_view_module": "@jupyter-widgets/base",
            "_view_module_version": "1.2.0",
            "_view_name": "LayoutView",
            "align_content": null,
            "align_items": null,
            "align_self": null,
            "border": null,
            "bottom": null,
            "display": null,
            "flex": null,
            "flex_flow": null,
            "grid_area": null,
            "grid_auto_columns": null,
            "grid_auto_flow": null,
            "grid_auto_rows": null,
            "grid_column": null,
            "grid_gap": null,
            "grid_row": null,
            "grid_template_areas": null,
            "grid_template_columns": null,
            "grid_template_rows": null,
            "height": null,
            "justify_content": null,
            "justify_items": null,
            "left": null,
            "margin": null,
            "max_height": null,
            "max_width": null,
            "min_height": null,
            "min_width": null,
            "object_fit": null,
            "object_position": null,
            "order": null,
            "overflow": null,
            "overflow_x": null,
            "overflow_y": null,
            "padding": null,
            "right": null,
            "top": null,
            "visibility": null,
            "width": null
          }
        },
        "a24e177593664741993a4a1b369f84c5": {
          "model_module": "@jupyter-widgets/controls",
          "model_name": "DescriptionStyleModel",
          "model_module_version": "1.5.0",
          "state": {
            "_model_module": "@jupyter-widgets/controls",
            "_model_module_version": "1.5.0",
            "_model_name": "DescriptionStyleModel",
            "_view_count": null,
            "_view_module": "@jupyter-widgets/base",
            "_view_module_version": "1.2.0",
            "_view_name": "StyleView",
            "description_width": ""
          }
        },
        "ec4559767b3243548f3d4377c26df8b5": {
          "model_module": "@jupyter-widgets/base",
          "model_name": "LayoutModel",
          "model_module_version": "1.2.0",
          "state": {
            "_model_module": "@jupyter-widgets/base",
            "_model_module_version": "1.2.0",
            "_model_name": "LayoutModel",
            "_view_count": null,
            "_view_module": "@jupyter-widgets/base",
            "_view_module_version": "1.2.0",
            "_view_name": "LayoutView",
            "align_content": null,
            "align_items": null,
            "align_self": null,
            "border": null,
            "bottom": null,
            "display": null,
            "flex": null,
            "flex_flow": null,
            "grid_area": null,
            "grid_auto_columns": null,
            "grid_auto_flow": null,
            "grid_auto_rows": null,
            "grid_column": null,
            "grid_gap": null,
            "grid_row": null,
            "grid_template_areas": null,
            "grid_template_columns": null,
            "grid_template_rows": null,
            "height": null,
            "justify_content": null,
            "justify_items": null,
            "left": null,
            "margin": null,
            "max_height": null,
            "max_width": null,
            "min_height": null,
            "min_width": null,
            "object_fit": null,
            "object_position": null,
            "order": null,
            "overflow": null,
            "overflow_x": null,
            "overflow_y": null,
            "padding": null,
            "right": null,
            "top": null,
            "visibility": null,
            "width": null
          }
        },
        "a208e72e590c4bf8b2829d7e45172248": {
          "model_module": "@jupyter-widgets/controls",
          "model_name": "ButtonStyleModel",
          "model_module_version": "1.5.0",
          "state": {
            "_model_module": "@jupyter-widgets/controls",
            "_model_module_version": "1.5.0",
            "_model_name": "ButtonStyleModel",
            "_view_count": null,
            "_view_module": "@jupyter-widgets/base",
            "_view_module_version": "1.2.0",
            "_view_name": "StyleView",
            "button_color": null,
            "font_weight": ""
          }
        },
        "77c7e58fb9364d1ea854c8e27e122939": {
          "model_module": "@jupyter-widgets/base",
          "model_name": "LayoutModel",
          "model_module_version": "1.2.0",
          "state": {
            "_model_module": "@jupyter-widgets/base",
            "_model_module_version": "1.2.0",
            "_model_name": "LayoutModel",
            "_view_count": null,
            "_view_module": "@jupyter-widgets/base",
            "_view_module_version": "1.2.0",
            "_view_name": "LayoutView",
            "align_content": null,
            "align_items": null,
            "align_self": null,
            "border": null,
            "bottom": null,
            "display": null,
            "flex": null,
            "flex_flow": null,
            "grid_area": null,
            "grid_auto_columns": null,
            "grid_auto_flow": null,
            "grid_auto_rows": null,
            "grid_column": null,
            "grid_gap": null,
            "grid_row": null,
            "grid_template_areas": null,
            "grid_template_columns": null,
            "grid_template_rows": null,
            "height": null,
            "justify_content": null,
            "justify_items": null,
            "left": null,
            "margin": null,
            "max_height": null,
            "max_width": null,
            "min_height": null,
            "min_width": null,
            "object_fit": null,
            "object_position": null,
            "order": null,
            "overflow": null,
            "overflow_x": null,
            "overflow_y": null,
            "padding": null,
            "right": null,
            "top": null,
            "visibility": null,
            "width": null
          }
        },
        "81c63b56a1bb46ba8d77dc0e847091e2": {
          "model_module": "@jupyter-widgets/controls",
          "model_name": "DescriptionStyleModel",
          "model_module_version": "1.5.0",
          "state": {
            "_model_module": "@jupyter-widgets/controls",
            "_model_module_version": "1.5.0",
            "_model_name": "DescriptionStyleModel",
            "_view_count": null,
            "_view_module": "@jupyter-widgets/base",
            "_view_module_version": "1.2.0",
            "_view_name": "StyleView",
            "description_width": ""
          }
        }
      }
    }
  },
  "nbformat": 4,
  "nbformat_minor": 0
}